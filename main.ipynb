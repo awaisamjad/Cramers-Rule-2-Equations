{
 "cells": [
  {
   "cell_type": "code",
   "execution_count": 7,
   "metadata": {},
   "outputs": [
    {
     "name": "stdout",
     "output_type": "stream",
     "text": [
      "Area : 6.0\n"
     ]
    }
   ],
   "source": [
    "a = float(input(\"Enter side 'a' : \"))\n",
    "b = float(input(\"Enter side 'b' : \"))\n",
    "c = float(input(\"Enter side 'c' : \"))\n",
    "\n",
    "\n",
    "def Herons_formula(a, b, c):\n",
    "    area = 0\n",
    "    if a and b and c > 0:\n",
    "\n",
    "        s = (a+b+c)/2\n",
    "        area = (s*(s-a)*(s-b)*(s-c))**0.5\n",
    "    else:\n",
    "        print(\"Values must be greater than 0\")\n",
    "    return area\n",
    "\n",
    "\n",
    "print(\"Area :\",Herons_formula(a, b, c))"
   ]
  },
  {
   "cell_type": "code",
   "execution_count": 12,
   "metadata": {},
   "outputs": [
    {
     "name": "stdout",
     "output_type": "stream",
     "text": [
      "ax + by = e\n",
      "cx + dy = f\n",
      "x and y : (3.0, 1.0)\n"
     ]
    }
   ],
   "source": [
    "print(\"ax + by = e\")\n",
    "print(\"cx + dy = f\")\n",
    "a = float(input(\"Enter 'a' : \"))\n",
    "b = float(input(\"Enter 'b' : \"))\n",
    "c = float(input(\"Enter 'c' : \"))\n",
    "d = float(input(\"Enter 'd' : \"))\n",
    "e = float(input(\"Enter 'e' : \"))\n",
    "f = float(input(\"Enter 'f' : \"))\n",
    "def Cramers_Rule_2_Equations():\n",
    "    det = ((a*d)-(b*c))\n",
    "    if det==0:\n",
    "        raise ValueError\n",
    "    det_x = ((e*d)-(f*b))\n",
    "    det_y = ((a*f)-(c*e))\n",
    "    x = det_x/det\n",
    "    y = det_y/det\n",
    "    return x,y\n",
    "print(\"x and y :\",Cramers_Rule_2_Equations())\n",
    "\n",
    "\n"
   ]
  }
 ],
 "metadata": {
  "interpreter": {
   "hash": "1f8d80d535cfd832283e4e3a1095d2ce45fe6627336684f2622a1965babb2f1c"
  },
  "kernelspec": {
   "display_name": "Python 3.9.10 64-bit (windows store)",
   "language": "python",
   "name": "python3"
  },
  "language_info": {
   "codemirror_mode": {
    "name": "ipython",
    "version": 3
   },
   "file_extension": ".py",
   "mimetype": "text/x-python",
   "name": "python",
   "nbconvert_exporter": "python",
   "pygments_lexer": "ipython3",
   "version": "3.10.0"
  },
  "orig_nbformat": 4
 },
 "nbformat": 4,
 "nbformat_minor": 2
}
